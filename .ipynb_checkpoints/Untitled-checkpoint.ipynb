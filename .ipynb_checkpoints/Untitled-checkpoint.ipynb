{
 "cells": [
  {
   "cell_type": "code",
   "execution_count": 1,
   "metadata": {},
   "outputs": [],
   "source": [
    "import sqlite3\n",
    "import pandas as pd\n",
    "conn = sqlite3.connect('test.db', check_same_thread=False)"
   ]
  },
  {
   "cell_type": "code",
   "execution_count": 18,
   "metadata": {},
   "outputs": [],
   "source": [
    "query= \"\"\"CREATE TABLE ExpenseMaster        \n",
    "           (    request_id int not null auto_increment,\n",
    "                Expensetype varchar(255),\n",
    "                company_name varchar(255),\n",
    "                Description varchar(255),\n",
    "                Amount_requested varchar(255),\n",
    "                Amount_approved varchar(255),\n",
    "                userID varchar(255),\n",
    "                userName varchar(255),\n",
    "                date varchar(255),\n",
    "                STATUS varchar(255),\n",
    "                updatedBY varchar(255))\"\"\"\n",
    "conn.execute(\"drop table if exists  ExpenseMaster \")\n",
    "conn.commit()\n",
    "conn.execute(query)\n",
    "conn.commit()"
   ]
  },
  {
   "cell_type": "code",
   "execution_count": 20,
   "metadata": {},
   "outputs": [
    {
     "name": "stdout",
     "output_type": "stream",
     "text": [
      "(None, 'Food', 'Uni Medicolabs', 'asdsa', '21', '', 'analyst', 'analyst analyst', '2022-08-13 22:39:23', 'REQUESTED', '')\n"
     ]
    }
   ],
   "source": [
    "stmt = \"SELECT * from ExpenseMaster \"\n",
    "cursor = conn.execute(stmt)\n",
    "equipment_list = []\n",
    "for row in cursor:\n",
    "    print(row)"
   ]
  },
  {
   "cell_type": "code",
   "execution_count": null,
   "metadata": {},
   "outputs": [],
   "source": []
  },
  {
   "cell_type": "code",
   "execution_count": 7,
   "metadata": {},
   "outputs": [],
   "source": [
    "sql_create_table_query = \"\"\"\n",
    "CREATE TABLE file_db (name varchar(255) , data BLOB);\n",
    "\"\"\"\n",
    "conn.execute(\"drop table if exists  file_db \")\n",
    "conn.commit()\n",
    "conn.execute(sql_create_table_query)\n",
    "conn.commit()"
   ]
  },
  {
   "cell_type": "code",
   "execution_count": null,
   "metadata": {},
   "outputs": [],
   "source": [
    "stmt = \"SELECT * from equipment_master \"\n",
    "cursor = conn.execute(stmt)\n",
    "equipment_list = []\n",
    "for row in cursor:"
   ]
  },
  {
   "cell_type": "code",
   "execution_count": null,
   "metadata": {},
   "outputs": [],
   "source": [
    "conn.execute(sql_create_table_query)"
   ]
  },
  {
   "cell_type": "code",
   "execution_count": 125,
   "metadata": {},
   "outputs": [
    {
     "data": {
      "text/plain": [
       "['sr.no',\n",
       " 'Type',\n",
       " 'EQUIPMENT_NAME',\n",
       " 'MAKE',\n",
       " 'MODEL_NUMBER',\n",
       " 'SR_NO_ID',\n",
       " 'DONE_DATE',\n",
       " 'DUE_DATE']"
      ]
     },
     "execution_count": 125,
     "metadata": {},
     "output_type": "execute_result"
    }
   ],
   "source": [
    "equipment_master.columns.tolist()"
   ]
  },
  {
   "cell_type": "code",
   "execution_count": 126,
   "metadata": {},
   "outputs": [],
   "source": [
    "# query = \"\"\"INSERT INTO USERS ( USERNAME , ROLE, PASSWORD)\n",
    "#                          VALUES ( '{}','{}','{}')\"\"\".format(username,role,password)\n",
    "# print(query)\n",
    "# conn.execute(query)\n",
    "query= \"\"\"CREATE TABLE equipment_master        \n",
    "           (    Type varchar(255),\n",
    "                EQUIPMENT_NAME varchar(255),\n",
    "                MAKE varchar(255),\n",
    "                MODEL_NUMBER varchar(255),\n",
    "                SR_NO_ID varchar(255),\n",
    "                DONE_DATE varchar(255),\n",
    "                DUE_DATE varchar(255),\n",
    "                STATUS varchar(255),\n",
    "                ISSUED_TO varchar(255),\n",
    "                COMPANY_NAME varchar(255),\n",
    "                REMARK varchar(255))\"\"\"\n",
    "conn.execute(\"drop table if exists  equipment_master \")\n",
    "conn.commit()\n",
    "conn.execute(query)\n",
    "conn.commit()\n",
    "stmt = \"SELECT * from equipment_master \"\n",
    "cursor = conn.execute(stmt)\n",
    "for row in cursor:\n",
    "    print(row)"
   ]
  },
  {
   "cell_type": "code",
   "execution_count": 127,
   "metadata": {},
   "outputs": [
    {
     "data": {
      "text/html": [
       "<div>\n",
       "<style scoped>\n",
       "    .dataframe tbody tr th:only-of-type {\n",
       "        vertical-align: middle;\n",
       "    }\n",
       "\n",
       "    .dataframe tbody tr th {\n",
       "        vertical-align: top;\n",
       "    }\n",
       "\n",
       "    .dataframe thead th {\n",
       "        text-align: right;\n",
       "    }\n",
       "</style>\n",
       "<table border=\"1\" class=\"dataframe\">\n",
       "  <thead>\n",
       "    <tr style=\"text-align: right;\">\n",
       "      <th></th>\n",
       "      <th>Type</th>\n",
       "      <th>EQUIPMENT_NAME</th>\n",
       "      <th>MAKE</th>\n",
       "      <th>MODEL_NUMBER</th>\n",
       "      <th>SR_NO_ID</th>\n",
       "      <th>DONE_DATE</th>\n",
       "      <th>DUE_DATE</th>\n",
       "      <th>STATUS</th>\n",
       "      <th>ISSUED_TO</th>\n",
       "      <th>COMPANY_NAME</th>\n",
       "      <th>REMARK</th>\n",
       "    </tr>\n",
       "  </thead>\n",
       "  <tbody>\n",
       "    <tr>\n",
       "      <td>0</td>\n",
       "      <td>AIR_VELOCITY</td>\n",
       "      <td>VANE TYPE ANEMOETER</td>\n",
       "      <td>METRAVI</td>\n",
       "      <td>AVM-04</td>\n",
       "      <td>S12K240201</td>\n",
       "      <td>2021-09-11 00:00:00</td>\n",
       "      <td>2021-09-11 00:00:00</td>\n",
       "      <td>AVAILABLE</td>\n",
       "      <td></td>\n",
       "      <td></td>\n",
       "      <td></td>\n",
       "    </tr>\n",
       "    <tr>\n",
       "      <td>1</td>\n",
       "      <td>AIR_VELOCITY</td>\n",
       "      <td>VANE TYPE ANEMOETER</td>\n",
       "      <td>INDI</td>\n",
       "      <td>3145</td>\n",
       "      <td>S12K160162</td>\n",
       "      <td>2022-09-11 00:00:00</td>\n",
       "      <td>2022-09-11 00:00:00</td>\n",
       "      <td>AVAILABLE</td>\n",
       "      <td></td>\n",
       "      <td></td>\n",
       "      <td></td>\n",
       "    </tr>\n",
       "    <tr>\n",
       "      <td>2</td>\n",
       "      <td>AIR_VELOCITY</td>\n",
       "      <td>VANE TYPE ANEMOETER</td>\n",
       "      <td>HSTENI</td>\n",
       "      <td>HT-9819</td>\n",
       "      <td>202003305488</td>\n",
       "      <td>2021-04-10 00:00:00</td>\n",
       "      <td>2022-03-10 00:00:00</td>\n",
       "      <td>AVAILABLE</td>\n",
       "      <td></td>\n",
       "      <td></td>\n",
       "      <td></td>\n",
       "    </tr>\n",
       "    <tr>\n",
       "      <td>3</td>\n",
       "      <td>AIR_VELOCITY</td>\n",
       "      <td>VANE TYPE ANEMOETER</td>\n",
       "      <td>METRAVI</td>\n",
       "      <td>AVM-10</td>\n",
       "      <td>200616197</td>\n",
       "      <td>2024-09-11 00:00:00</td>\n",
       "      <td>2024-09-11 00:00:00</td>\n",
       "      <td>AVAILABLE</td>\n",
       "      <td></td>\n",
       "      <td></td>\n",
       "      <td></td>\n",
       "    </tr>\n",
       "    <tr>\n",
       "      <td>4</td>\n",
       "      <td>PAO_TEST</td>\n",
       "      <td>Aerosol Photometer</td>\n",
       "      <td>TEC Service</td>\n",
       "      <td>PH-5</td>\n",
       "      <td>2829</td>\n",
       "      <td>13/01/2022</td>\n",
       "      <td>13/01/2023</td>\n",
       "      <td>AVAILABLE</td>\n",
       "      <td></td>\n",
       "      <td></td>\n",
       "      <td></td>\n",
       "    </tr>\n",
       "    <tr>\n",
       "      <td>5</td>\n",
       "      <td>PAO_TEST</td>\n",
       "      <td>Aerosol Photometer</td>\n",
       "      <td>TEC Service</td>\n",
       "      <td>PH-5</td>\n",
       "      <td>3690</td>\n",
       "      <td>26/03/2021</td>\n",
       "      <td>26/03/2022</td>\n",
       "      <td>AVAILABLE</td>\n",
       "      <td></td>\n",
       "      <td></td>\n",
       "      <td></td>\n",
       "    </tr>\n",
       "    <tr>\n",
       "      <td>6</td>\n",
       "      <td>PARTICLE_COUNT</td>\n",
       "      <td>Partical Counter</td>\n",
       "      <td>TSI</td>\n",
       "      <td>9500-01</td>\n",
       "      <td>95001809003</td>\n",
       "      <td>13/01/2022</td>\n",
       "      <td>13/01/2023</td>\n",
       "      <td>AVAILABLE</td>\n",
       "      <td></td>\n",
       "      <td></td>\n",
       "      <td></td>\n",
       "    </tr>\n",
       "    <tr>\n",
       "      <td>7</td>\n",
       "      <td>PARTICLE_COUNT</td>\n",
       "      <td>Partical Counter</td>\n",
       "      <td>TSI</td>\n",
       "      <td>9350-03</td>\n",
       "      <td>93502030005</td>\n",
       "      <td>13/01/2022</td>\n",
       "      <td>13/01/2023</td>\n",
       "      <td>AVAILABLE</td>\n",
       "      <td></td>\n",
       "      <td></td>\n",
       "      <td></td>\n",
       "    </tr>\n",
       "  </tbody>\n",
       "</table>\n",
       "</div>"
      ],
      "text/plain": [
       "             Type       EQUIPMENT_NAME          MAKE MODEL_NUMBER  \\\n",
       "0    AIR_VELOCITY  VANE TYPE ANEMOETER       METRAVI       AVM-04   \n",
       "1    AIR_VELOCITY  VANE TYPE ANEMOETER          INDI         3145   \n",
       "2    AIR_VELOCITY  VANE TYPE ANEMOETER        HSTENI      HT-9819   \n",
       "3    AIR_VELOCITY  VANE TYPE ANEMOETER       METRAVI       AVM-10   \n",
       "4        PAO_TEST  Aerosol Photometer   TEC Service          PH-5   \n",
       "5        PAO_TEST  Aerosol Photometer    TEC Service         PH-5   \n",
       "6  PARTICLE_COUNT    Partical Counter            TSI      9500-01   \n",
       "7  PARTICLE_COUNT    Partical Counter            TSI      9350-03   \n",
       "\n",
       "       SR_NO_ID            DONE_DATE             DUE_DATE     STATUS  \\\n",
       "0    S12K240201  2021-09-11 00:00:00  2021-09-11 00:00:00  AVAILABLE   \n",
       "1    S12K160162  2022-09-11 00:00:00  2022-09-11 00:00:00  AVAILABLE   \n",
       "2  202003305488  2021-04-10 00:00:00  2022-03-10 00:00:00  AVAILABLE   \n",
       "3     200616197  2024-09-11 00:00:00  2024-09-11 00:00:00  AVAILABLE   \n",
       "4          2829           13/01/2022           13/01/2023  AVAILABLE   \n",
       "5          3690           26/03/2021           26/03/2022  AVAILABLE   \n",
       "6   95001809003           13/01/2022           13/01/2023  AVAILABLE   \n",
       "7   93502030005           13/01/2022           13/01/2023  AVAILABLE   \n",
       "\n",
       "  ISSUED_TO COMPANY_NAME REMARK  \n",
       "0                                \n",
       "1                                \n",
       "2                                \n",
       "3                                \n",
       "4                                \n",
       "5                                \n",
       "6                                \n",
       "7                                "
      ]
     },
     "execution_count": 127,
     "metadata": {},
     "output_type": "execute_result"
    }
   ],
   "source": [
    "for row in equipment_master.itertuples():\n",
    "    query = \"\"\"INSERT INTO equipment_master \n",
    "            (Type ,EQUIPMENT_NAME ,MAKE ,MODEL_NUMBER,SR_NO_ID ,DONE_DATE ,DUE_DATE,STATUS,ISSUED_TO,COMPANY_NAME ,REMARK) \n",
    "            VALUES ( '{}','{}','{}','{}','{}','{}','{}','{}','{}','{}',\"{}\")\"\"\".format(row[2],row[3],row[4],row[5],row[6],row[7],row[8],\"AVAILABLE\",\"\",\"\",\"\")\n",
    "    #print(query)\n",
    "    conn.execute(query)\n",
    "    conn.commit()\n",
    "    \n",
    "stmt = \"SELECT * from equipment_master \"\n",
    "cursor = conn.execute(stmt)\n",
    "equipment_list = []\n",
    "for row in cursor:\n",
    "    equipment_list.append(list(row))\n",
    "equipment_frame = pd.DataFrame(equipment_list)\n",
    "equipment_frame.columns = ['Type' ,'EQUIPMENT_NAME' ,'MAKE' ,'MODEL_NUMBER','SR_NO_ID' ,'DONE_DATE' ,'DUE_DATE','STATUS','ISSUED_TO','COMPANY_NAME' ,'REMARK']\n",
    "equipment_frame"
   ]
  },
  {
   "cell_type": "markdown",
   "metadata": {},
   "source": [
    "## ELOGBOOK"
   ]
  },
  {
   "cell_type": "code",
   "execution_count": 128,
   "metadata": {},
   "outputs": [],
   "source": [
    "query= \"\"\"CREATE TABLE elogbook        \n",
    "           (    \n",
    "                SR_NO_ID varchar(255),\n",
    "                STATUS varchar(255),\n",
    "                ISSUED_TO varchar(255),\n",
    "                COMPANY_NAME varchar(255),\n",
    "                REMARK varchar(255),\n",
    "                update_time varchar(255))\"\"\"\n",
    "conn.execute(\"drop table if exists  elogbook \")\n",
    "conn.commit()\n",
    "conn.execute(query)\n",
    "conn.commit()"
   ]
  },
  {
   "cell_type": "code",
   "execution_count": 129,
   "metadata": {},
   "outputs": [],
   "source": [
    "# query=\"\"\"INSERT INTO elogbook\n",
    "#                     (SR_NO_ID ,STATUS,ISSUED_TO ,COMPANY_NAME , REMARK ,update_time)\n",
    "#                     VALUES ( '202003305488','REQUESTED','analyst','bm','bmn')\"\"\"\n",
    "# conn.execute(query)\n",
    "# conn.commit()\n",
    "# stmt = \"SELECT * from elogbook \"\n",
    "# cursor = conn.execute(stmt)\n",
    "# for row in cursor:\n",
    "#     print(row)"
   ]
  },
  {
   "cell_type": "code",
   "execution_count": 130,
   "metadata": {},
   "outputs": [],
   "source": [
    "# stmt = \"SELECT USERNAME,ROLE,PASSWORD from USERS \"\n",
    "# cursor = conn.execute(stmt)\n",
    "# for row in cursor:\n",
    "#     print(row)\n",
    "# username =\"Ajeet\"\n",
    "# role =\"Admin\"\n",
    "# password =\"123\"\n",
    "\n",
    "# query = \"\"\"INSERT INTO USERS ( USERNAME , ROLE, PASSWORD)\n",
    "#                          VALUES ( '{}','{}','{}')\"\"\".format(username,role,password)\n",
    "# print(query)\n",
    "# conn.execute(query)\n"
   ]
  },
  {
   "cell_type": "code",
   "execution_count": 132,
   "metadata": {},
   "outputs": [],
   "source": [
    "# company_details = pd.read_excel(\"static\\\\inputData\\\\company_details.xlsx\")\n",
    "# company_details.columns.tolist()\n",
    "\n",
    "\n",
    "# query= \"\"\"CREATE TABLE company_details        \n",
    "#            (    \n",
    "#                 COMPANY_NAME varchar(255),\n",
    "#                 ADDRESS varchar(255),\n",
    "#                 REPORT_NUMBER varchar(255))\"\"\"\n",
    "# conn.execute(\"drop table if exists  company_details \")\n",
    "# conn.commit()\n",
    "# conn.execute(query)\n",
    "# conn.commit()\n",
    "\n",
    "# for row in company_details.itertuples():\n",
    "#     query = \"\"\"INSERT INTO company_details \n",
    "#             ('COMPANY_NAME', 'ADDRESS', 'REPORT_NUMBER') \n",
    "#             VALUES ( '{}','{}','{}')\"\"\".format(row[1],row[2],row[3])\n",
    "#     #print(query)\n",
    "#     conn.execute(query)\n",
    "#     conn.commit()\n",
    "    \n",
    "# stmt = \"SELECT * from company_details \"\n",
    "# cursor = conn.execute(stmt)\n",
    "# equipment_list = []\n",
    "# for row in cursor:\n",
    "#     equipment_list.append(list(row))\n",
    "# equipment_frame = pd.DataFrame(equipment_list)\n",
    "# equipment_frame.columns = ['COMPANY_NAME', 'ADDRESS', 'REPORT_NUMBER']\n",
    "# equipment_frame"
   ]
  },
  {
   "cell_type": "code",
   "execution_count": 133,
   "metadata": {},
   "outputs": [],
   "source": [
    "query = \"\"\"delete from  USERS\"\"\"\n",
    "conn.execute(query)\n",
    "conn.commit()\n"
   ]
  },
  {
   "cell_type": "code",
   "execution_count": 134,
   "metadata": {},
   "outputs": [],
   "source": [
    "conn.execute(\"\"\"INSERT INTO USERS (USERNAME,ROLE,PASSWORD)\n",
    "             VALUES ('admin', 'admin', '29cac80ff6a0156263c5d414825633dd4175c77a67ff75f54860991e7c0e0bd0')\"\"\")\n",
    "\n",
    "conn.execute(\"\"\"INSERT INTO USERS (USERNAME,ROLE,PASSWORD)\n",
    "             VALUES ('analyst', 'analyst', 'ce817ec2779be727aadd4e3b42fe850685341027852d97fc26fef783864fb2ec')\"\"\")\n",
    "conn.commit()"
   ]
  },
  {
   "cell_type": "code",
   "execution_count": 7,
   "metadata": {},
   "outputs": [
    {
     "name": "stdout",
     "output_type": "stream",
     "text": [
      "('admin', 'admin', 'admin', 'admin', '29cac80ff6a0156263c5d414825633dd4175c77a67ff75f54860991e7c0e0bd0')\n",
      "('analyst', 'analyst', 'analyst', 'analyst', 'ce817ec2779be727aadd4e3b42fe850685341027852d97fc26fef783864fb2ec')\n",
      "('ajeetsh10', 'ajeet', 'shukla', 'admin', '61eea0483a1ff60b4dcde42d1dfbf4f1cceeb407a463206423a2d4bd56cf8224')\n",
      "('ajeetsh57', 'ajeet', 'shukla', 'admin', 'cbfb9a4cfe6daf8c86d03db75699660c191571082bbf25998d9b8ea8d9a641bb')\n",
      "('ajeetsh61', 'ajeet', 'shukla', 'admin', '88b06b4097aad914d34a589d2c1528a062adb2b994d3d82f822a2e5d8b7e090a')\n",
      "('ajeetsh67', 'ajeet', 'shukla', 'admin', '4947d91be20740f64ecc12d65e439daa1ef90fefd13f802c564844db99beaad7')\n",
      "('ajeetsh65', 'ajeet', 'shukla', 'admin', '6110fa8a5524ba334ffcb8342474e6aafdfcda61ecc49f17fc6b90c93c04c8fa')\n",
      "('ajeetsh58', 'ajeet', 'shukla', 'admin', '37d02f69be2eb79ad8a09851a5557248102641007738f3b6b25cec04785c8e74')\n",
      "('ajeetsh96', 'ajeet', 'shukla', 'admin', 'c4399f506b87c9164d30ce7270944bc5a07eab0da6ac9d3073da295496a2883d')\n"
     ]
    }
   ],
   "source": [
    "stmt = \"SELECT * from USERS \"\n",
    "cursor = conn.execute(stmt)\n",
    "for row in cursor:\n",
    "    print(row)"
   ]
  },
  {
   "cell_type": "code",
   "execution_count": null,
   "metadata": {},
   "outputs": [],
   "source": []
  }
 ],
 "metadata": {
  "kernelspec": {
   "display_name": "Python 3",
   "language": "python",
   "name": "python3"
  },
  "language_info": {
   "codemirror_mode": {
    "name": "ipython",
    "version": 3
   },
   "file_extension": ".py",
   "mimetype": "text/x-python",
   "name": "python",
   "nbconvert_exporter": "python",
   "pygments_lexer": "ipython3",
   "version": "3.7.3"
  }
 },
 "nbformat": 4,
 "nbformat_minor": 2
}
